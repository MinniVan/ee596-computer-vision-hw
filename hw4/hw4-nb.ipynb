{
 "cells": [
  {
   "cell_type": "code",
   "execution_count": 1,
   "id": "002d55df",
   "metadata": {},
   "outputs": [],
   "source": [
    "import torch\n",
    "import torchvision\n",
    "import cv2\n",
    "import torch.optim as optim\n",
    "import torch.nn as nn\n",
    "import torch.nn.functional as F\n",
    "import numpy as np\n",
    "import matplotlib.pyplot as plt\n",
    "import torchvision.transforms as transforms"
   ]
  },
  {
   "cell_type": "code",
   "execution_count": 2,
   "id": "15ae47f6",
   "metadata": {},
   "outputs": [
    {
     "ename": "SyntaxError",
     "evalue": "invalid syntax (185085958.py, line 46)",
     "output_type": "error",
     "traceback": [
      "\u001b[0;36m  Cell \u001b[0;32mIn[2], line 46\u001b[0;36m\u001b[0m\n\u001b[0;31m    transform =\u001b[0m\n\u001b[0m                ^\u001b[0m\n\u001b[0;31mSyntaxError\u001b[0m\u001b[0;31m:\u001b[0m invalid syntax\n"
     ]
    }
   ],
   "source": [
    "def CIFAR10_dataset_a():\n",
    "    \"\"\"write the code to grab a single mini-batch of 4 images from the training set, at random. \n",
    "   Return:\n",
    "    1. A batch of images as a torch array with type torch.FloatTensor. \n",
    "    The first dimension of the array should be batch dimension, the second channel dimension, \n",
    "    followed by image height and image width. \n",
    "    2. Labels of the images in a torch array\n",
    "\n",
    "    \"\"\"\n",
    "    return images, labels\n",
    "\n",
    "class Net(nn.Module):\n",
    "    # Use this function to define your network\n",
    "    # Creates the network\n",
    "    def __init__(self):\n",
    "        super().__init__()\n",
    "        # Inits the model layers\n",
    "\n",
    "    def forward(self, x):\n",
    "        # Defines forward apth\n",
    "        return x\n",
    "\n",
    "def train_classifier():\n",
    "    # Creates dataset\n",
    "\n",
    "    # Creates Network \n",
    "    net = Net()\n",
    "\n",
    "\n",
    "    # Defines loss function and optimizer\n",
    "\n",
    "    for epoch in range(2):  # loop over the dataset for 2 iteration\n",
    "        pass\n",
    "\n",
    "    # Saves the model weights after training\n",
    "    PATH = './cifar_net_2epoch.pth'\n",
    "    torch.save(net.state_dict(), PATH)\n",
    "\n",
    "def evalNetwork():\n",
    "    # Initialized the network and load from the saved weights\n",
    "    PATH = './cifar_net_2epoch.pth'\n",
    "    net = Net()\n",
    "    net.load_state_dict(torch.load(PATH))\n",
    "    # Loads dataset\n",
    "    batch_size=4\n",
    "    transform = \n",
    "    testset = \n",
    "    testloader =\n",
    "    correct = 0\n",
    "    total = 0\n",
    "    # since we're not training, we don't need to calculate the gradients for our outputs\n",
    "    with torch.no_grad():\n",
    "        for data in testloader:\n",
    "            # Evaluates samples\n",
    "\n",
    "def get_first_layer_weights():\n",
    "    net = Net()\n",
    "    # TODO: load the trained weights\n",
    "    first_weight = None  # TODO: get conv1 weights (exclude bias)\n",
    "    return first_weight\n",
    "\n",
    "def get_second_layer_weights():\n",
    "    net = Net()\n",
    "    # TODO: load the trained weights\n",
    "    second_weight = None  # TODO: get conv2 weights (exclude bias)\n",
    "    return second_weight\n",
    "\n",
    "def hyperparameter_sweep():\n",
    "    '''\n",
    "    Reuse the CNN and training code from Question 2\n",
    "    Train the network three times using different learning rates: 0.01, 0.001, and 0.0001\n",
    "    During training, record the training loss every 2000 iterations\n",
    "    compute and record the training and test errors every 2000 iterations by randomly sampling 1000 images from each dataset\n",
    "    After training, plot three curves\n",
    "    '''\n",
    "    return None"
   ]
  },
  {
   "cell_type": "code",
   "execution_count": 3,
   "id": "cddd652f",
   "metadata": {},
   "outputs": [
    {
     "ename": "SyntaxError",
     "evalue": "incomplete input (1761791060.py, line 2)",
     "output_type": "error",
     "traceback": [
      "\u001b[0;36m  Cell \u001b[0;32mIn[3], line 2\u001b[0;36m\u001b[0m\n\u001b[0;31m    # your text code here\u001b[0m\n\u001b[0m                         ^\u001b[0m\n\u001b[0;31mSyntaxError\u001b[0m\u001b[0;31m:\u001b[0m incomplete input\n"
     ]
    }
   ],
   "source": [
    "if __name__ == \"__main__\":\n",
    "    # your text code here"
   ]
  },
  {
   "cell_type": "code",
   "execution_count": null,
   "id": "c65cdb2f",
   "metadata": {},
   "outputs": [],
   "source": []
  }
 ],
 "metadata": {
  "kernelspec": {
   "display_name": "eep596-cv",
   "language": "python",
   "name": "python3"
  },
  "language_info": {
   "codemirror_mode": {
    "name": "ipython",
    "version": 3
   },
   "file_extension": ".py",
   "mimetype": "text/x-python",
   "name": "python",
   "nbconvert_exporter": "python",
   "pygments_lexer": "ipython3",
   "version": "3.10.18"
  }
 },
 "nbformat": 4,
 "nbformat_minor": 5
}
